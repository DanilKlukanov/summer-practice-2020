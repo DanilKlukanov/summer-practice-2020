{
 "cells": [
  {
   "cell_type": "markdown",
   "metadata": {},
   "source": [
    "Импортируем библиотеку для регулярных предложений"
   ]
  },
  {
   "cell_type": "code",
   "execution_count": 163,
   "metadata": {},
   "outputs": [],
   "source": [
    "import re"
   ]
  },
  {
   "cell_type": "markdown",
   "metadata": {},
   "source": [
    "Считываем все предложения с файла.\n",
    "Разбиваем предложения на слова."
   ]
  },
  {
   "cell_type": "code",
   "execution_count": 166,
   "metadata": {},
   "outputs": [],
   "source": [
    "sent = open(\"sentences.txt\", \"r\")\n",
    "sent_list = [re.split('[^a-z]', line.strip('\\n').lower()) for line in sent]"
   ]
  },
  {
   "cell_type": "markdown",
   "metadata": {},
   "source": [
    "Удаляем пустые слова. Составляем словарь размером - d, где d колличество различных слов в предложениях. Ключ - слово, значение - его индекс."
   ]
  },
  {
   "cell_type": "code",
   "execution_count": 180,
   "metadata": {},
   "outputs": [],
   "source": [
    "dic = {}\n",
    "d = 0\n",
    "for sent in range(len(sent_list)):\n",
    "    for word in range(len(sent_list[sent]) - 1, -1, -1):        \n",
    "        if sent_list[sent][word] != '':\n",
    "            if (sent_list[sent][word] in dic):\n",
    "                continue\n",
    "            else:\n",
    "                dic[sent_list[sent][word]] = d\n",
    "                d += 1\n",
    "        if sent_list[sent][word] == '':\n",
    "            del sent_list[sent][word]"
   ]
  },
  {
   "cell_type": "markdown",
   "metadata": {},
   "source": [
    "Импорт библеотеки NumPy"
   ]
  },
  {
   "cell_type": "code",
   "execution_count": 171,
   "metadata": {},
   "outputs": [],
   "source": [
    "import numpy as np"
   ]
  },
  {
   "cell_type": "markdown",
   "metadata": {},
   "source": [
    "Создание матрицы размером n * d, где n — число предложений. Примечание: значения n и d даны в условиях задания."
   ]
  },
  {
   "cell_type": "code",
   "execution_count": 175,
   "metadata": {},
   "outputs": [],
   "source": [
    "matrix = np.zeros((22, 254))"
   ]
  },
  {
   "cell_type": "markdown",
   "metadata": {},
   "source": [
    "Заполняем матрицу значениями. Элемент с индексом (i, j) в этой матрице равен количеству вхождений j-го слова в i-е предложение."
   ]
  },
  {
   "cell_type": "code",
   "execution_count": 182,
   "metadata": {},
   "outputs": [],
   "source": [
    "for sent in range(len(sent_list)):\n",
    "    for word in range(len(sent_list[sent])):\n",
    "        matrix[sent][dic.get(sent_list[sent][word])] += 1 "
   ]
  },
  {
   "cell_type": "markdown",
   "metadata": {},
   "source": [
    "Импорт библеотеки SciPy"
   ]
  },
  {
   "cell_type": "code",
   "execution_count": 197,
   "metadata": {},
   "outputs": [],
   "source": [
    "from scipy.spatial import distance"
   ]
  },
  {
   "cell_type": "markdown",
   "metadata": {},
   "source": [
    "Находим косинусное расстояние от предложения в самой первой строке до всех остальных с помощью функции scipy.spatial.distance.cosine. Сохраняем данные в массив в виде кортежа (номер предложения, расстояние)"
   ]
  },
  {
   "cell_type": "code",
   "execution_count": 198,
   "metadata": {},
   "outputs": [],
   "source": [
    "cos_dis = []\n",
    "for i in range(1, len(sent_list)):\n",
    "    cos = distance.cosine(matrix[0], matrix[i])\n",
    "    cos_dis.append((i, cos))"
   ]
  },
  {
   "cell_type": "markdown",
   "metadata": {},
   "source": [
    "Сортируем массив по возрастанию расстояния"
   ]
  },
  {
   "cell_type": "code",
   "execution_count": 199,
   "metadata": {},
   "outputs": [],
   "source": [
    "cos_dis.sort(key = lambda tupple: tupple[1])"
   ]
  },
  {
   "cell_type": "markdown",
   "metadata": {},
   "source": [
    "Выводим в файл номера двух самых близких по смыслу предложений к первому"
   ]
  },
  {
   "cell_type": "code",
   "execution_count": 207,
   "metadata": {},
   "outputs": [],
   "source": [
    "with open('answer.txt', 'w') as sent:\n",
    "    sent.write((str(cos_dis[0][0]) + ' ' + str(cos_dis[1][0])).strip('\\n'))"
   ]
  }
 ],
 "metadata": {
  "kernelspec": {
   "display_name": "Python 3",
   "language": "python",
   "name": "python3"
  },
  "language_info": {
   "codemirror_mode": {
    "name": "ipython",
    "version": 3
   },
   "file_extension": ".py",
   "mimetype": "text/x-python",
   "name": "python",
   "nbconvert_exporter": "python",
   "pygments_lexer": "ipython3",
   "version": "3.7.6"
  }
 },
 "nbformat": 4,
 "nbformat_minor": 4
}
