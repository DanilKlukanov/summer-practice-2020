{
 "cells": [
  {
   "cell_type": "markdown",
   "metadata": {},
   "source": [
    "В конец строки не забываем добавить символ переноса строки. Он нужен для того, чтобы в случае, если мы записываем файл сразу в несколько строк, они бы не склеились в одну, а шли одна за другой. Так читать гораздо приятней."
   ]
  },
  {
   "cell_type": "code",
   "execution_count": 7,
   "metadata": {},
   "outputs": [],
   "source": [
    "file_o = open('write_to_file.txt', 'w')\n",
    "string = 'stroke\\n'\n",
    "file_o.write(str)\n",
    "file_o.close()"
   ]
  },
  {
   "cell_type": "markdown",
   "metadata": {},
   "source": [
    "И теперь давайте посмотрим, как выглядит наш файл. Для этого можно использовать команду bash cat."
   ]
  },
  {
   "cell_type": "code",
   "execution_count": 8,
   "metadata": {},
   "outputs": [
    {
     "name": "stderr",
     "output_type": "stream",
     "text": [
      "\"cat\" ­Ґ пў«пҐвбп ў­гваҐ­­Ґ© Ё«Ё ў­Ґи­Ґ©\n",
      "Є®¬ ­¤®©, ЁбЇ®«­пҐ¬®© Їа®Ја ¬¬®© Ё«Ё Ї ЄҐв­л¬ д ©«®¬.\n"
     ]
    }
   ],
   "source": [
    "!cat write_to_file.txt"
   ]
  },
  {
   "cell_type": "markdown",
   "metadata": {},
   "source": [
    "Не знаю почему он так выводит, но в файл записалось stroke"
   ]
  },
  {
   "cell_type": "code",
   "execution_count": 11,
   "metadata": {},
   "outputs": [],
   "source": [
    "file_o = open('write_to_file.txt', 'w')\n",
    "string_2 = 'stroke_2\\n'\n",
    "file_o.write(string_2)\n",
    "file_o.close()"
   ]
  },
  {
   "cell_type": "code",
   "execution_count": 12,
   "metadata": {},
   "outputs": [
    {
     "name": "stderr",
     "output_type": "stream",
     "text": [
      "\"cat\" ­Ґ пў«пҐвбп ў­гваҐ­­Ґ© Ё«Ё ў­Ґи­Ґ©\n",
      "Є®¬ ­¤®©, ЁбЇ®«­пҐ¬®© Їа®Ја ¬¬®© Ё«Ё Ї ЄҐв­л¬ д ©«®¬.\n"
     ]
    }
   ],
   "source": [
    "!cat write_to_file.txt"
   ]
  },
  {
   "cell_type": "markdown",
   "metadata": {},
   "source": [
    "Аналогично, но записалось stroke_2\n",
    "\n",
    "Наша первая строка исчезла, зато в файле появилась вторая строка. Это произошло из-за того, что мы перезаписали наш старый файл новым. Так происходит, когда мы работаем с файлами в режиме write. Если файл уже существует в данной директории, то он будет перезаписан новым файлом. А если бы файла с таким названием еще не было, то мы бы действительно создали новый файл, как в первый раз."
   ]
  },
  {
   "cell_type": "code",
   "execution_count": 13,
   "metadata": {},
   "outputs": [],
   "source": [
    "file_o = open('write_to_file.txt', 'a')\n",
    "string_3 = 'stroke_3\\n'\n",
    "file_o.write(string_3)\n",
    "file_o.close()"
   ]
  },
  {
   "cell_type": "markdown",
   "metadata": {},
   "source": [
    "Теперь давайте все-таки сделаем правильно, мы с вами хотим добавить строчку в конец существующего файла, а не переписать его заново.\n",
    "Для этого нам просто нужно использовать другой режим. Это режим append, или режим добавления"
   ]
  },
  {
   "cell_type": "code",
   "execution_count": 14,
   "metadata": {},
   "outputs": [
    {
     "name": "stderr",
     "output_type": "stream",
     "text": [
      "\"cat\" ­Ґ пў«пҐвбп ў­гваҐ­­Ґ© Ё«Ё ў­Ґи­Ґ©\n",
      "Є®¬ ­¤®©, ЁбЇ®«­пҐ¬®© Їа®Ја ¬¬®© Ё«Ё Ї ЄҐв­л¬ д ©«®¬.\n"
     ]
    }
   ],
   "source": [
    "!cat write_to_file.txt"
   ]
  },
  {
   "cell_type": "markdown",
   "metadata": {},
   "source": [
    "Аналогично, но записалось stroke_2 \\n stroke 3"
   ]
  },
  {
   "cell_type": "markdown",
   "metadata": {},
   "source": [
    "На самом деле, часто мы хотим записать сразу много строк в файл. У нас может быть целый список строк для записи. Мы можем делать это разными способами. Но самое простое — это просто в цикле записать все эти строчки с помощью функции write. Мы можем поступить по-другому. Для этого существует специальная функция writelines, которая принимает в качестве аргумента список строк для записи в файл."
   ]
  },
  {
   "cell_type": "code",
   "execution_count": 32,
   "metadata": {},
   "outputs": [],
   "source": [
    "digits = [i for i in range(1, 11)]"
   ]
  },
  {
   "cell_type": "code",
   "execution_count": 33,
   "metadata": {},
   "outputs": [
    {
     "name": "stdout",
     "output_type": "stream",
     "text": [
      "[1, 2, 3, 4, 5, 6, 7, 8, 9, 10]\n"
     ]
    }
   ],
   "source": [
    "print(digits)"
   ]
  },
  {
   "cell_type": "code",
   "execution_count": 38,
   "metadata": {},
   "outputs": [],
   "source": [
    "with open('write_to_file_2.txt', 'w') as file_o:\n",
    "    file_o.writelines(\"%s\\n\" % i for i in digits)"
   ]
  }
 ],
 "metadata": {
  "kernelspec": {
   "display_name": "Python 3",
   "language": "python",
   "name": "python3"
  },
  "language_info": {
   "codemirror_mode": {
    "name": "ipython",
    "version": 3
   },
   "file_extension": ".py",
   "mimetype": "text/x-python",
   "name": "python",
   "nbconvert_exporter": "python",
   "pygments_lexer": "ipython3",
   "version": "3.7.6"
  }
 },
 "nbformat": 4,
 "nbformat_minor": 4
}
